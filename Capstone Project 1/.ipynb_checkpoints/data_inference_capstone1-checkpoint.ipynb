{
 "cells": [
  {
   "cell_type": "markdown",
   "metadata": {},
   "source": [
    "# Data Inferencing on Robocalls in the US"
   ]
  },
  {
   "cell_type": "markdown",
   "metadata": {},
   "source": [
    "__Note:__ Run the data wrangling program before running this."
   ]
  },
  {
   "cell_type": "code",
   "execution_count": 22,
   "metadata": {},
   "outputs": [
    {
     "data": {
      "text/html": [
       "<div>\n",
       "<style scoped>\n",
       "    .dataframe tbody tr th:only-of-type {\n",
       "        vertical-align: middle;\n",
       "    }\n",
       "\n",
       "    .dataframe tbody tr th {\n",
       "        vertical-align: top;\n",
       "    }\n",
       "\n",
       "    .dataframe thead th {\n",
       "        text-align: right;\n",
       "    }\n",
       "</style>\n",
       "<table border=\"1\" class=\"dataframe\">\n",
       "  <thead>\n",
       "    <tr style=\"text-align: right;\">\n",
       "      <th></th>\n",
       "      <th>Issue Occurred</th>\n",
       "      <th>Form</th>\n",
       "      <th>Method</th>\n",
       "      <th>Issue</th>\n",
       "      <th>City</th>\n",
       "      <th>State</th>\n",
       "      <th>Zip</th>\n",
       "    </tr>\n",
       "  </thead>\n",
       "  <tbody>\n",
       "    <tr>\n",
       "      <td>0</td>\n",
       "      <td>2014-10-31 12:29:24</td>\n",
       "      <td>Phone</td>\n",
       "      <td>Wireless (cell phone/other mobile device)</td>\n",
       "      <td>Cramming (unauthorized charges on your phone b...</td>\n",
       "      <td>Minnetonka</td>\n",
       "      <td>MN</td>\n",
       "      <td>55345</td>\n",
       "    </tr>\n",
       "    <tr>\n",
       "      <td>1</td>\n",
       "      <td>2014-10-31 07:03:00</td>\n",
       "      <td>Phone</td>\n",
       "      <td>Internet (VOIP)</td>\n",
       "      <td>Telemarketing (including do not call and spoof...</td>\n",
       "      <td>Berwick</td>\n",
       "      <td>PA</td>\n",
       "      <td>18603</td>\n",
       "    </tr>\n",
       "    <tr>\n",
       "      <td>2</td>\n",
       "      <td>2014-10-31 00:36:00</td>\n",
       "      <td>Phone</td>\n",
       "      <td>Wireless (cell phone/other mobile device)</td>\n",
       "      <td>Telemarketing (including do not call and spoof...</td>\n",
       "      <td>Johnstown</td>\n",
       "      <td>PA</td>\n",
       "      <td>15902</td>\n",
       "    </tr>\n",
       "    <tr>\n",
       "      <td>3</td>\n",
       "      <td>2014-10-31 13:34:38</td>\n",
       "      <td>Phone</td>\n",
       "      <td>Wireless (cell phone/other mobile device)</td>\n",
       "      <td>Availability (including rural call completion)</td>\n",
       "      <td>Oconomowoc</td>\n",
       "      <td>WI</td>\n",
       "      <td>53066</td>\n",
       "    </tr>\n",
       "    <tr>\n",
       "      <td>4</td>\n",
       "      <td>2014-10-31 14:05:16</td>\n",
       "      <td>Phone</td>\n",
       "      <td>Internet (VOIP)</td>\n",
       "      <td>Availability (including rural call completion)</td>\n",
       "      <td>Somers</td>\n",
       "      <td>CT</td>\n",
       "      <td>06071</td>\n",
       "    </tr>\n",
       "  </tbody>\n",
       "</table>\n",
       "</div>"
      ],
      "text/plain": [
       "       Issue Occurred   Form                                     Method  \\\n",
       "0 2014-10-31 12:29:24  Phone  Wireless (cell phone/other mobile device)   \n",
       "1 2014-10-31 07:03:00  Phone                            Internet (VOIP)   \n",
       "2 2014-10-31 00:36:00  Phone  Wireless (cell phone/other mobile device)   \n",
       "3 2014-10-31 13:34:38  Phone  Wireless (cell phone/other mobile device)   \n",
       "4 2014-10-31 14:05:16  Phone                            Internet (VOIP)   \n",
       "\n",
       "                                               Issue        City State    Zip  \n",
       "0  Cramming (unauthorized charges on your phone b...  Minnetonka    MN  55345  \n",
       "1  Telemarketing (including do not call and spoof...     Berwick    PA  18603  \n",
       "2  Telemarketing (including do not call and spoof...   Johnstown    PA  15902  \n",
       "3     Availability (including rural call completion)  Oconomowoc    WI  53066  \n",
       "4     Availability (including rural call completion)      Somers    CT  06071  "
      ]
     },
     "execution_count": 22,
     "metadata": {},
     "output_type": "execute_result"
    }
   ],
   "source": [
    "# import relevant libraries\n",
    "import pandas as pd\n",
    "import numpy as np\n",
    "from datetime import datetime, time, date\n",
    "import matplotlib.pyplot as plt\n",
    "\n",
    "phone_df = pd.read_csv('data/Phone Complaints.csv')\n",
    "phone_df['Issue Occurred'] = pd.to_datetime(phone_df['Issue Occurred'], format='%Y/%m/%d %H:%M:%S')\n",
    "phone_df.head()"
   ]
  },
  {
   "cell_type": "code",
   "execution_count": 57,
   "metadata": {},
   "outputs": [
    {
     "name": "stdout",
     "output_type": "stream",
     "text": [
      "365 365\n"
     ]
    }
   ],
   "source": [
    "date_s = phone_df['Issue Occurred'].dt.date.sort_index()\n",
    "num_days = (date_s.iloc[-1] - date_s.iloc[0]).days + 1 # ends are inclusive\n",
    "\n",
    "mean_rbcall = np.sum(date_s.value_counts()) / num_days\n",
    "\n",
    "mask2015 = (date_s >= date(2015,1,1)) & (date_s <= date(2015,12,31))\n",
    "mask2019 = (date_s >= date(2019,1,1)) & (date_s <= date(2019,12,31))\n",
    "\n",
    "phn2015 = date_s.loc[mask2015].value_counts()\n",
    "phn2019 = date_s.loc[mask2019].value_counts()\n",
    "print(len(phn2015), len(phn2019))"
   ]
  },
  {
   "cell_type": "markdown",
   "metadata": {},
   "source": [
    "## Increase in daily number of robocalls?\n",
    "\n",
    "Overtime, the United States begins to become more and more concerned over robocalls and is actively fighting against them. However, we would like to know whether the mean daily number of robocalls has increased from since 2015. In other words, is there a difference in means in 2015 and 2019?"
   ]
  },
  {
   "cell_type": "markdown",
   "metadata": {},
   "source": [
    "__Null hypothesis:__ The mean daily number of robocalls did not change.\n",
    "\n",
    "__Alt. hypothesis:__ There is a difference in mean daily number of robocalls."
   ]
  },
  {
   "cell_type": "markdown",
   "metadata": {},
   "source": [
    "To test this hypothesis, we will use the bootstrap method. We will be provided the observed mean and the data from years 2015 and 2019."
   ]
  },
  {
   "cell_type": "code",
   "execution_count": 58,
   "metadata": {},
   "outputs": [],
   "source": [
    "np.random.seed(69)\n",
    "n_reps = 10000\n",
    "\n",
    "# func assumed to be np.mean\n",
    "def draw_bootstrp_reps(data, func, num=1):\n",
    "    bs_reps = np.empty(num)\n",
    "    \n",
    "    for i in range(num):\n",
    "        bs_reps[i] = func(np.random.choice(data, size=num))\n",
    "        \n",
    "    return bs_reps"
   ]
  },
  {
   "cell_type": "code",
   "execution_count": 59,
   "metadata": {},
   "outputs": [],
   "source": [
    "phn2015_shifted = phn2015 - np.mean(phn2015) + mean_rbcall\n",
    "phn2019_shifted = phn2019 - np.mean(phn2019) + mean_rbcall"
   ]
  },
  {
   "cell_type": "code",
   "execution_count": 60,
   "metadata": {},
   "outputs": [
    {
     "data": {
      "text/plain": [
       "array([-0.61125342, -6.90465342,  5.66124658, ...,  1.62854658,\n",
       "        1.41934658,  3.75304658])"
      ]
     },
     "execution_count": 60,
     "metadata": {},
     "output_type": "execute_result"
    }
   ],
   "source": [
    "bs_reps_2015 = draw_bootstrp_reps(phn2015_shifted, np.mean, n_reps)\n",
    "bs_reps_2019 = draw_bootstrp_reps(phn2019_shifted, np.mean, n_reps)\n",
    "bs_diff_mean = bs_reps_2019 - bs_reps_2015\n",
    "bs_diff_mean"
   ]
  },
  {
   "cell_type": "code",
   "execution_count": 61,
   "metadata": {},
   "outputs": [
    {
     "data": {
      "text/plain": [
       "0.352"
      ]
     },
     "execution_count": 61,
     "metadata": {},
     "output_type": "execute_result"
    }
   ],
   "source": [
    "emp_diff_mean = np.mean(phn2019) - np.mean(phn2015) # empirical diff of mean\n",
    "\n",
    "p = np.sum(bs_diff_mean >= emp_diff_mean) / len(bs_diff_mean)\n",
    "p"
   ]
  },
  {
   "cell_type": "code",
   "execution_count": 62,
   "metadata": {},
   "outputs": [
    {
     "data": {
      "image/png": "[encoded data removed]",
      "text/plain": [
       "<Figure size 432x288 with 1 Axes>"
      ]
     },
     "metadata": {
      "needs_background": "light"
     },
     "output_type": "display_data"
    }
   ],
   "source": [
    "plt.hist(bs_diff_mean, bins=30)\n",
    "plt.axvline(x=emp_diff_mean, color='red')\n",
    "plt.xlabel('Differences in daily means')\n",
    "plt.ylabel('Freq')\n",
    "plt.title('Differences in means between 2019 and 2015')\n",
    "plt.show()"
   ]
  },
  {
   "cell_type": "markdown",
   "metadata": {},
   "source": [
    "Using $\\alpha = 0.05$ as the statistical significance, since $p = 0.352 > \\alpha$, we cannot reject the null hypothesis. In other words, there is not enough evidence that the daily number of robocalls has increased significantly from 2015 to 2019."
   ]
  },
  {
   "cell_type": "markdown",
   "metadata": {},
   "source": [
    "## Robocalls targeting wireless phones more overtime?"
   ]
  },
  {
   "cell_type": "code",
   "execution_count": 11,
   "metadata": {},
   "outputs": [
    {
     "name": "stdout",
     "output_type": "stream",
     "text": [
      "233080 233761\n"
     ]
    }
   ],
   "source": [
    "methods2015 = phone_df[phone_df['Issue Occurred'].dt.year == 2015]['Method']\n",
    "methods2019 = phone_df[phone_df['Issue Occurred'].dt.year == 2019]['Method']\n",
    "\n",
    "print(len(methods2015), len(methods2019))"
   ]
  },
  {
   "cell_type": "markdown",
   "metadata": {},
   "source": [
    "As with the last test, we will use $\\alpha = 0.05$. However, this test will be one-sided instead, aiming to test whether there are more calls targeted at wireless devices in 2019 than in 2015."
   ]
  },
  {
   "cell_type": "code",
   "execution_count": 19,
   "metadata": {},
   "outputs": [],
   "source": [
    "# get random samples\n",
    "np.random.seed(69)\n",
    "samp_2015 = np.random.choice(methods2015, size=10000)\n",
    "samp_2019 = np.random.choice(methods2019, size=10000)\n",
    "\n",
    "# get p-hats from each sample\n",
    "k1, k2 = np.sum(samp_2015 == 'Wireless (cell phone/other mobile device)'), np.sum(samp_2019 == 'Wireless (cell phone/other mobile device)')\n",
    "p1_hat = k1 / len(samp_2015)\n",
    "p2_hat = k2 / len(samp_2019)\n",
    "p_hat  = (k1 + k2) / (len(samp_2015) + len(samp_2019))"
   ]
  },
  {
   "cell_type": "code",
   "execution_count": 20,
   "metadata": {},
   "outputs": [
    {
     "data": {
      "text/plain": [
       "-1.9236776999948584"
      ]
     },
     "execution_count": 20,
     "metadata": {},
     "output_type": "execute_result"
    }
   ],
   "source": [
    "z = (p2_hat - p1_hat) / np.sqrt(p_hat * (1-p_hat) * (1/len(samp_2015) + 1/len(samp_2019)))"
   ]
  },
  {
   "cell_type": "markdown",
   "metadata": {},
   "source": [
    "With $\\alpha = 0.05$ one-tailed, we can use $z^* = 1.645$. Clearly, $z = -1.92 < z^*$, implying that $P(z > z^*) > \\alpha$. In other words, we cannot conclude there are a larger proportion of wireless robocalls in 2019 than in 2015. In fact, there seems to be less proportionally in 2019 than in 2015."
   ]
  },
  {
   "cell_type": "code",
   "execution_count": null,
   "metadata": {},
   "outputs": [],
   "source": []
  }
 ],
 "metadata": {
  "kernelspec": {
   "display_name": "Python 3",
   "language": "python",
   "name": "python3"
  },
  "language_info": {
   "codemirror_mode": {
    "name": "ipython",
    "version": 3
   },
   "file_extension": ".py",
   "mimetype": "text/x-python",
   "name": "python",
   "nbconvert_exporter": "python",
   "pygments_lexer": "ipython3",
   "version": "3.7.4"
  }
 },
 "nbformat": 4,
 "nbformat_minor": 2
}
